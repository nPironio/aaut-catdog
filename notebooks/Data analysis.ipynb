{
 "cells": [
  {
   "cell_type": "code",
   "execution_count": null,
   "id": "a7385c74",
   "metadata": {},
   "outputs": [],
   "source": [
    "import seaborn as sns\n",
    "import pandas as pd\n",
    "\n",
    "from catdog.utils.image import plot_image_bbox"
   ]
  },
  {
   "cell_type": "code",
   "execution_count": null,
   "id": "0a8518d2",
   "metadata": {},
   "outputs": [],
   "source": [
    "data = pd.read_csv(\"../data/all_data.csv\", index_col=0)"
   ]
  },
  {
   "cell_type": "code",
   "execution_count": null,
   "id": "ddb59ff5",
   "metadata": {},
   "outputs": [],
   "source": [
    "data"
   ]
  },
  {
   "cell_type": "code",
   "execution_count": null,
   "id": "a51ccafd",
   "metadata": {},
   "outputs": [],
   "source": [
    "data[\"file\"] = \"../data/images/\"+data[\"file\"]"
   ]
  },
  {
   "cell_type": "code",
   "execution_count": null,
   "id": "eae10f62",
   "metadata": {},
   "outputs": [],
   "source": [
    "samples = data.sample(5)"
   ]
  },
  {
   "cell_type": "code",
   "execution_count": null,
   "id": "43ed8960",
   "metadata": {},
   "outputs": [],
   "source": [
    "for sample in samples[[\"file\", \"class\", \"xmin\", \"ymin\", \"xmax\", \"ymax\"]].values:\n",
    "    plot_image_bbox(*sample)"
   ]
  },
  {
   "cell_type": "markdown",
   "id": "7890bded",
   "metadata": {},
   "source": [
    "# Data analysis"
   ]
  },
  {
   "cell_type": "markdown",
   "id": "04943917",
   "metadata": {},
   "source": [
    "### Class distribution"
   ]
  },
  {
   "cell_type": "code",
   "execution_count": null,
   "id": "544a465b",
   "metadata": {
    "scrolled": true
   },
   "outputs": [],
   "source": [
    "data.groupby(\"class\").size() / len(data)"
   ]
  },
  {
   "cell_type": "code",
   "execution_count": null,
   "id": "e9d84470",
   "metadata": {
    "scrolled": true
   },
   "outputs": [],
   "source": [
    "sns.countplot(data=data, x=\"class\")"
   ]
  },
  {
   "cell_type": "markdown",
   "id": "b1839522",
   "metadata": {},
   "source": [
    "Hay un claro desbalance de clases, un predictor que siempre diga \"dog\" tiene un accuracy de 0.67"
   ]
  },
  {
   "cell_type": "markdown",
   "id": "41af8f80",
   "metadata": {},
   "source": [
    "### Image size distribution"
   ]
  },
  {
   "cell_type": "code",
   "execution_count": null,
   "id": "beba9d59",
   "metadata": {},
   "outputs": [],
   "source": [
    "sns.displot(data=data, x=\"height\", y=\"width\", kind=\"hist\")"
   ]
  },
  {
   "cell_type": "code",
   "execution_count": null,
   "id": "314dd355",
   "metadata": {},
   "outputs": [],
   "source": []
  }
 ],
 "metadata": {
  "kernelspec": {
   "display_name": "Python 3 (ipykernel)",
   "language": "python",
   "name": "python3"
  },
  "language_info": {
   "codemirror_mode": {
    "name": "ipython",
    "version": 3
   },
   "file_extension": ".py",
   "mimetype": "text/x-python",
   "name": "python",
   "nbconvert_exporter": "python",
   "pygments_lexer": "ipython3",
   "version": "3.10.4"
  }
 },
 "nbformat": 4,
 "nbformat_minor": 5
}
