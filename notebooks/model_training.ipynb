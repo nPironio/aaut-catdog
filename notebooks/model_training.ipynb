{
 "cells": [
  {
   "cell_type": "code",
   "execution_count": null,
   "id": "868f3636-1384-4a67-9063-488005fff541",
   "metadata": {
    "scrolled": true
   },
   "outputs": [],
   "source": [
    "import torch\n",
    "\n",
    "\n",
    "device = 'cpu'\n",
    "if torch.cuda.is_available():\n",
    "    device = 'cuda'\n",
    "\n",
    "device"
   ]
  },
  {
   "cell_type": "code",
   "execution_count": null,
   "id": "b3e0abbe",
   "metadata": {},
   "outputs": [],
   "source": [
    "usr = \"char\"\n",
    "# Tengo GPU pero no cuda compatible, me rompe cuando intento correr con GPU\n",
    "if usr == \"nico\":\n",
    "    device=\"cpu\"\n",
    "    num_workers = 4\n",
    "    \n",
    "if usr == \"char\":\n",
    "    num_workers = 0"
   ]
  },
  {
   "cell_type": "code",
   "execution_count": null,
   "id": "943e8d89-6a31-463a-a72c-3f6bc9861261",
   "metadata": {},
   "outputs": [],
   "source": [
    "from catdog.dataset import CatDogDataset"
   ]
  },
  {
   "cell_type": "code",
   "execution_count": null,
   "id": "f78ca685-b779-43cd-b78d-8093b34e5ff3",
   "metadata": {},
   "outputs": [],
   "source": [
    "DATA_DIR = '../data/'"
   ]
  },
  {
   "cell_type": "code",
   "execution_count": null,
   "id": "43640a11-3a7b-46c4-86c2-fea47140a34e",
   "metadata": {},
   "outputs": [],
   "source": [
    "import pandas as pd\n",
    "\n",
    "\n",
    "train_set_pd = pd.read_csv(DATA_DIR + 'train.csv')\n",
    "train_set_torch = CatDogDataset(train_set_pd, img_output_size=(150, 150))\n",
    "print(f\"Loaded train set with length {len(train_set_torch)}\")\n",
    "\n",
    "test_set_pd = pd.read_csv(DATA_DIR + 'test.csv')\n",
    "test_set_torch = CatDogDataset(test_set_pd, img_output_size=(150, 150))\n",
    "print(f\"Loaded test set with length {len(test_set_torch)}\")"
   ]
  },
  {
   "cell_type": "code",
   "execution_count": null,
   "id": "111b8442-7e70-4689-bd5e-d8748a327a6a",
   "metadata": {},
   "outputs": [],
   "source": [
    "batch_size = 32\n",
    "train_loader = torch.utils.data.DataLoader(train_set_torch, batch_size=batch_size, shuffle=True, num_workers=num_workers)\n",
    "test_loader = torch.utils.data.DataLoader(test_set_torch, batch_size=batch_size, shuffle=False, num_workers=num_workers)\n"
   ]
  },
  {
   "cell_type": "code",
   "execution_count": null,
   "id": "04813ec3-4e0a-430a-8fdd-2aa83e436456",
   "metadata": {},
   "outputs": [],
   "source": [
    "import numpy as np\n",
    "\n",
    "\n",
    "seed = 142\n",
    "torch.manual_seed(seed)\n",
    "np.random.seed(seed)"
   ]
  },
  {
   "cell_type": "markdown",
   "id": "3ebcd6a5-084a-4dc6-8431-02747d9381b0",
   "metadata": {},
   "source": [
    "#### test image\n",
    "\n",
    "import numpy as np\n",
    "from PIL import Image\n",
    "\n",
    "\n",
    "test_img_path = DATA_DIR + 'images/' + cat_dog_df[\"file\"].iloc[0]\n",
    "test_img = Image.open(test_img_path).convert(\"RGB\")"
   ]
  },
  {
   "cell_type": "code",
   "execution_count": null,
   "id": "2598e765-4182-4072-806f-6acd1f7a6922",
   "metadata": {},
   "outputs": [],
   "source": [
    "from catdog.models.feedforward import MLPClassifier\n",
    "from catdog.models.convolutional import ConvolutionalClassifier\n",
    "\n",
    "\n",
    "# model = MLPClassifier(input_size=500*500*3, hidden_sizes=(50, 10))\n",
    "model = ConvolutionalClassifier(input_shape=(3,150,150), optimizer_params={\"lr\": 1e-4})"
   ]
  },
  {
   "cell_type": "code",
   "execution_count": null,
   "id": "591cc705-fcc7-4c2c-809a-4cacac6019de",
   "metadata": {},
   "outputs": [],
   "source": [
    "d = torch.stack((train_set_torch[0][0], train_set_torch[1][0])).float()"
   ]
  },
  {
   "cell_type": "code",
   "execution_count": null,
   "id": "e00596b9-b784-4076-9878-03d06b150edc",
   "metadata": {},
   "outputs": [],
   "source": [
    "from pytorch_lightning import Trainer, seed_everything\n",
    "from pytorch_lightning.callbacks.early_stopping import EarlyStopping\n",
    "from pytorch_lightning.callbacks import ModelCheckpoint\n",
    "from pytorch_lightning.loggers import TensorBoardLogger\n",
    "\n",
    "seed_everything(142, workers=True)\n",
    "\n",
    "checkpoint_callback = ModelCheckpoint(\n",
    "    monitor='val_loss',\n",
    "    dirpath='./lightning_checkpoints/',\n",
    "    filename='test_model_training',\n",
    "    mode='min',\n",
    "    save_top_k=3\n",
    ")\n",
    "\n",
    "logger = TensorBoardLogger(\"tb_logs\", name=\"Conv_classifier\")\n",
    "\n",
    "trainer = Trainer(gpus=0,#int(device=='cuda'), # hacky way to say 0 or 1 \n",
    "                  max_epochs=1000,\n",
    "                  logger=logger,\n",
    "                  callbacks=[EarlyStopping(monitor=\"val_loss\", patience=15, mode='min'),\n",
    "                             checkpoint_callback])\n",
    "trainer.fit(model, train_loader, test_loader)  # here we are using test set as validation set"
   ]
  },
  {
   "cell_type": "code",
   "execution_count": null,
   "id": "911c8ca9-f519-4feb-b857-e8a74a68f375",
   "metadata": {},
   "outputs": [],
   "source": []
  }
 ],
 "metadata": {
  "kernelspec": {
   "display_name": "Python 3 (ipykernel)",
   "language": "python",
   "name": "python3"
  },
  "language_info": {
   "codemirror_mode": {
    "name": "ipython",
    "version": 3
   },
   "file_extension": ".py",
   "mimetype": "text/x-python",
   "name": "python",
   "nbconvert_exporter": "python",
   "pygments_lexer": "ipython3",
   "version": "3.7.13"
  }
 },
 "nbformat": 4,
 "nbformat_minor": 5
}
